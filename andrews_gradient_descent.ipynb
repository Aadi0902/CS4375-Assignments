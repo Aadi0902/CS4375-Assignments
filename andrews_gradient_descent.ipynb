{
  "nbformat": 4,
  "nbformat_minor": 0,
  "metadata": {
    "colab": {
      "name": "andrews_gradient_descent.ipynb",
      "provenance": [],
      "collapsed_sections": [],
      "include_colab_link": true
    },
    "kernelspec": {
      "name": "python3",
      "display_name": "Python 3"
    }
  },
  "cells": [
    {
      "cell_type": "markdown",
      "metadata": {
        "id": "view-in-github",
        "colab_type": "text"
      },
      "source": [
        "<a href=\"https://colab.research.google.com/github/Aadi0902/CS4375-Assignments/blob/master/andrews_gradient_descent.ipynb\" target=\"_parent\"><img src=\"https://colab.research.google.com/assets/colab-badge.svg\" alt=\"Open In Colab\"/></a>"
      ]
    },
    {
      "cell_type": "code",
      "metadata": {
        "id": "CJpVncFpwzJr",
        "colab_type": "code",
        "colab": {
          "base_uri": "https://localhost:8080/",
          "height": 588
        },
        "outputId": "91ce18f5-e3ee-4537-9b84-0309c9d63010"
      },
      "source": [
        "import pandas as pd\n",
        "import numpy as np\n",
        "from sklearn.model_selection import train_test_split\n",
        "from sklearn.preprocessing import StandardScaler\n",
        "import matplotlib.pyplot as plt\n",
        "\n",
        "cols = [\"mpg\",\"cylinders\",\"displacement\",\"horsepower\",\"weight\",\"acceleration\",\"model year\",\"origin\",\"car name\"]\n",
        "df = pd.read_csv(\"https://archive.ics.uci.edu/ml/machine-learning-databases/auto-mpg/auto-mpg.data\", sep='\\s+', header=None, names = cols, na_values=[\"?\"])\n",
        "df = df.dropna()\n",
        "x = df.iloc[:, 1:7]\n",
        "print(x.shape)\n",
        "y = df.iloc[:, 0]\n",
        "\n",
        "# SPLITTING TEST AND TRAINING: https://scikit-learn.org/stable/modules/sgd.html#sgd\n",
        "xTrain, xTest, yTrain, yTest = train_test_split(x, y, test_size = 0.15)\n",
        "\n",
        "# NORMALIZING VALUES: https://scikit-learn.org/stable/modules/generated/sklearn.linear_model.SGDRegressor.html#sklearn.linear_model.SGDRegressor\n",
        "scaler = StandardScaler()\n",
        "scaler.fit(xTrain)\n",
        "xTrain = scaler.transform(xTrain)\n",
        "xTest = scaler.transform(xTest)\n",
        "yTrain = yTrain.tolist()\n",
        "yTest = yTest.tolist()\n",
        "# add column of 1s https://numpy.org/doc/stable/reference/generated/numpy.c_.html\n",
        "xTrain = np.c_[xTrain, np.ones((len(xTrain), 1))]\n",
        "xTest = np.c_[xTest, np.ones((len(xTest), 1))]\n",
        "\n",
        "\n",
        "m = len(xTrain[0])\n",
        "n = len(xTrain)\n",
        "n_test = len(xTest)\n",
        "\n",
        "W = np.array([[1]] * m)\n",
        "Y = np.reshape(yTrain,(n,1))\n",
        "Y_test = np.reshape(yTest, (n_test, 1)) #yTest is not used for training\n",
        "alpha = .01\n",
        "x_axis = np.arange(30.)\n",
        "y_axis_MSE = np.ones(30)\n",
        "y_axis_MSEt = np.ones(30)\n",
        "\n",
        "for i in range(900):\n",
        "  H = np.dot(xTrain, W)\n",
        "  E = H - Y\n",
        "  dMSE = np.dot((xTrain.T), E) / n\n",
        "  W = W - alpha*dMSE\n",
        "  if (i%30 == 0):\n",
        "    MSE = np.dot(E.T, E)/(2*n)\n",
        "    y_axis_MSE[i//30] = MSE\n",
        "    E_test = xTest.dot(W) - Y_test\n",
        "    MSE_test = E_test.T.dot(E_test)/(2*n_test)\n",
        "    y_axis_MSEt[i//30] = MSE_test\n",
        "    #print('MSE on training data set: ' + str(MSE) + \", on test data: \" + str(MSE_test))\n",
        "\n",
        "print(f'coefficients: {W}.')\n",
        "yPredict = np.dot(xTest, W)\n",
        "print(f'predicted MPG: {yPredict[:10]}.')\n",
        "print(f'actual MPG: {yTest[:10]}.')\n",
        "plt.plot(x_axis, y_axis_MSE, 'r--', x_axis, y_axis_MSEt, 'bs')\n",
        "plt.show()"
      ],
      "execution_count": null,
      "outputs": [
        {
          "output_type": "stream",
          "text": [
            "(392, 6)\n",
            "coefficients: [[-0.6900664 ]\n",
            " [-0.87530019]\n",
            " [-0.66875469]\n",
            " [-3.59671496]\n",
            " [-0.25578398]\n",
            " [ 2.68549215]\n",
            " [23.44930388]].\n",
            "predicted MPG: [[29.302803  ]\n",
            " [30.00124529]\n",
            " [26.61666492]\n",
            " [31.12302032]\n",
            " [21.40415502]\n",
            " [30.73089371]\n",
            " [ 8.7253024 ]\n",
            " [13.04772595]\n",
            " [31.38008895]\n",
            " [29.91454452]].\n",
            "actual MPG: [27.2, 35.0, 23.8, 32.4, 18.6, 29.5, 14.0, 15.0, 30.0, 27.0].\n"
          ],
          "name": "stdout"
        },
        {
          "output_type": "display_data",
          "data": {
            "image/png": "[encoded data removed]",
            "text/plain": [
              "<Figure size 432x288 with 1 Axes>"
            ]
          },
          "metadata": {
            "tags": [],
            "needs_background": "light"
          }
        }
      ]
    }
  ]
}