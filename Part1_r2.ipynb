{
  "nbformat": 4,
  "nbformat_minor": 0,
  "metadata": {
    "colab": {
      "name": "Part1_r2.ipynb",
      "provenance": [],
      "collapsed_sections": [],
      "authorship_tag": "ABX9TyNsy6lr8nj4CudFaVcBE63F",
      "include_colab_link": true
    },
    "kernelspec": {
      "name": "python3",
      "display_name": "Python 3"
    }
  },
  "cells": [
    {
      "cell_type": "markdown",
      "metadata": {
        "id": "view-in-github",
        "colab_type": "text"
      },
      "source": [
        "<a href=\"https://colab.research.google.com/github/Aadi0902/CS4375-Assignments/blob/master/Part1_r2.ipynb\" target=\"_parent\"><img src=\"https://colab.research.google.com/assets/colab-badge.svg\" alt=\"Open In Colab\"/></a>"
      ]
    },
    {
      "cell_type": "code",
      "metadata": {
        "id": "_7fsIpiXNMCQ",
        "colab_type": "code",
        "colab": {
          "base_uri": "https://localhost:8080/",
          "height": 385
        },
        "outputId": "821a217b-ce7f-4d6f-f014-3d56593e41b0"
      },
      "source": [
        "# -*- coding: utf-8 -*-\n",
        "\"\"\"\n",
        "Created on Tue Sep 15 04:45:41 2020\n",
        "@author: Aadi\n",
        "\"\"\"\n",
        "import numpy as np\n",
        "import matplotlib.pyplot as plt\n",
        "import preProcessing as prep\n",
        "from sklearn.metrics import r2_score\n",
        "\n",
        "class Part1:\n",
        "\n",
        "    def main(self):\n",
        "      xTrain,yTrain,xTest,yTest = prep.processedData()  \n",
        "      self.notUsingMLlibraries(xTrain,yTrain,xTest,yTest)\n",
        "\n",
        "\n",
        "    def notUsingMLlibraries(self,xTrain,yTrain,xTest,yTest):\n",
        "      nColumns = len(xTrain[0])\n",
        "      nRows = len(xTrain)\n",
        "      n = nRows\n",
        "      \n",
        "      # Learning rate\n",
        "      alpha = [0.00001, 0.0001, 0.001, 0.005, 0.1]\n",
        "      \n",
        "      for i in range(len(alpha)):\n",
        "      #Random initilization\n",
        "        W = [[0.5]] * nColumns\n",
        "\n",
        "        #Convert Y to column matrix\n",
        "        Y = np.reshape(yTrain,(nRows,1))\n",
        "        \n",
        "        xAxis = [1]*100\n",
        "        yAxis = [1]*100\n",
        "        r2 = 0\n",
        "        for ind in range(50000):\n",
        "          H = np.dot(xTrain,W)\n",
        "\n",
        "          # Error\n",
        "          E = H - Y\n",
        "\n",
        "          # Mean square error\n",
        "          MSE = (1/(2*n))*(np.dot(E.T,E))\n",
        "\n",
        "          # Partial derivative of MSE wrt W\n",
        "          pd_MSE = (1/n)*((E*xTrain).sum(axis=0)) #https://stackoverflow.com/questions/51624235/python-getting-dot-product-for-two-multidimensional-arrays\n",
        "          pd_MSE = np.reshape(pd_MSE,(nColumns,1))\n",
        "\n",
        "          W = W - alpha[i]*pd_MSE\n",
        "\n",
        "          if(ind%500==0):\n",
        "            xAxis[int(ind/500)] = ind\n",
        "            yAxis[int(ind/500)] = MSE[0]\n",
        "          \n",
        "        yPredict = np.dot(xTest,W)\n",
        "        r2 = r2_score(yTest, yPredict)\n",
        "        print(f'r2: {r2}')\n",
        "\n",
        "        plt.plot(xAxis,yAxis,label=i)\n",
        "      \n",
        "      plt.legend([\"Alpha = 0.00001\",\"Alpha = 0.0001\",\"Alpha = 0.001\",\"Alpha = 0.005\",\"Alpha = 0.1\"])\n",
        "      plt.xlabel(\"Number of iterations\")\n",
        "      plt.ylabel(\"MSE\")\n",
        "      plt.show()\n",
        "        #print(\"Calculated predict values: \",yPredict[0:10])\n",
        "\n",
        "# Run this class\n",
        "tst = Part1()\n",
        "tst.main()"
      ],
      "execution_count": null,
      "outputs": [
        {
          "output_type": "stream",
          "text": [
            "/bin/bash: allpip: command not found\n"
          ],
          "name": "stdout"
        },
        {
          "output_type": "error",
          "ename": "ModuleNotFoundError",
          "evalue": "ignored",
          "traceback": [
            "\u001b[0;31m---------------------------------------------------------------------------\u001b[0m",
            "\u001b[0;31mModuleNotFoundError\u001b[0m                       Traceback (most recent call last)",
            "\u001b[0;32m<ipython-input-3-133fcc342ac5>\u001b[0m in \u001b[0;36m<module>\u001b[0;34m()\u001b[0m\n\u001b[1;32m      8\u001b[0m \u001b[0;32mimport\u001b[0m \u001b[0mmatplotlib\u001b[0m\u001b[0;34m.\u001b[0m\u001b[0mpyplot\u001b[0m \u001b[0;32mas\u001b[0m \u001b[0mplt\u001b[0m\u001b[0;34m\u001b[0m\u001b[0;34m\u001b[0m\u001b[0m\n\u001b[1;32m      9\u001b[0m \u001b[0;34m\u001b[0m\u001b[0m\n\u001b[0;32m---> 10\u001b[0;31m \u001b[0;32mimport\u001b[0m \u001b[0mpreProcessing\u001b[0m \u001b[0;32mas\u001b[0m \u001b[0mprep\u001b[0m\u001b[0;34m\u001b[0m\u001b[0;34m\u001b[0m\u001b[0m\n\u001b[0m\u001b[1;32m     11\u001b[0m \u001b[0;34m\u001b[0m\u001b[0m\n\u001b[1;32m     12\u001b[0m \u001b[0;32mclass\u001b[0m \u001b[0mPart1\u001b[0m\u001b[0;34m:\u001b[0m\u001b[0;34m\u001b[0m\u001b[0;34m\u001b[0m\u001b[0m\n",
            "\u001b[0;31mModuleNotFoundError\u001b[0m: No module named 'preProcessing'",
            "",
            "\u001b[0;31m---------------------------------------------------------------------------\u001b[0;32m\nNOTE: If your import is failing due to a missing package, you can\nmanually install dependencies using either !pip or !apt.\n\nTo view examples of installing some common dependencies, click the\n\"Open Examples\" button below.\n\u001b[0;31m---------------------------------------------------------------------------\u001b[0m\n"
          ]
        }
      ]
    }
  ]
}